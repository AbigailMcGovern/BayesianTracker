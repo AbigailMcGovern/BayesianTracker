{
 "cells": [
  {
   "cell_type": "markdown",
   "metadata": {},
   "source": [
    "# Using btrack with napari\n"
   ]
  },
  {
   "cell_type": "code",
   "execution_count": 1,
   "metadata": {},
   "outputs": [],
   "source": [
    "import os\n",
    "import json\n",
    "\n",
    "import btrack\n",
    "import napari\n",
    "\n",
    "import numpy as np\n",
    "import pandas as pd"
   ]
  },
  {
   "cell_type": "code",
   "execution_count": 2,
   "metadata": {},
   "outputs": [],
   "source": [
    "objects = btrack.dataio.import_JSON('objects.json')"
   ]
  },
  {
   "cell_type": "code",
   "execution_count": 3,
   "metadata": {},
   "outputs": [],
   "source": [
    "# with btrack.dataio.HDF5FileHandler('/Users/arl/Dropbox/Code/py3/arboretum/tracks.h5', 'r') as h:\n",
    "#     segmentation = h._hdf['segmentation']['images'][:]\n",
    "#     objects = h.objects"
   ]
  },
  {
   "cell_type": "code",
   "execution_count": 4,
   "metadata": {},
   "outputs": [
    {
     "name": "stderr",
     "output_type": "stream",
     "text": [
      "[INFO][2020/10/02 10:12:39 AM] Loaded btrack: /home/quantumjot/Dropbox/Code/py3/BayesianTracker/btrack/libs/libtracker.so\n",
      "[INFO][2020/10/02 10:12:39 AM] btrack (v0.3.12) library imported\n",
      "[INFO][2020/10/02 10:12:39 AM] Setting max XYZ search radius to: 100\n",
      "[INFO][2020/10/02 10:12:39 AM] Starting BayesianTracker session\n",
      "[INFO][2020/10/02 10:12:39 AM] Loading configuration file: ../models/cell_config.json\n",
      "[INFO][2020/10/02 10:12:39 AM] Loading motion model: b'cell_motion'\n",
      "[INFO][2020/10/02 10:12:39 AM] Objects are of type: <class 'list'>\n",
      "[INFO][2020/10/02 10:12:39 AM] Set volume to ((0, 1200), (0, 1600), (-100000.0, 100000.0))\n",
      "[INFO][2020/10/02 10:12:39 AM] Starting tracking... \n",
      "[INFO][2020/10/02 10:12:39 AM] Tracking objects in frames 0 to 99 (of 500)...\n",
      "[INFO][2020/10/02 10:12:39 AM]  - Timing (Bayesian updates: 1.07ms, Linking: 0.20ms)\n",
      "[INFO][2020/10/02 10:12:39 AM]  - Probabilities (Link: 1.00000, Lost: 0.48361)\n",
      "[INFO][2020/10/02 10:12:39 AM]  - Stats (Active: 78, Lost: 191, Conflicts resolved: 113)\n",
      "[INFO][2020/10/02 10:12:39 AM] Tracking objects in frames 100 to 199 (of 500)...\n",
      "[INFO][2020/10/02 10:12:40 AM]  - Timing (Bayesian updates: 1.27ms, Linking: 0.19ms)\n",
      "[INFO][2020/10/02 10:12:40 AM]  - Probabilities (Link: 1.00000, Lost: 0.65664)\n",
      "[INFO][2020/10/02 10:12:40 AM]  - Stats (Active: 83, Lost: 316, Conflicts resolved: 197)\n",
      "[INFO][2020/10/02 10:12:40 AM] Tracking objects in frames 200 to 299 (of 500)...\n",
      "[INFO][2020/10/02 10:12:40 AM]  - Timing (Bayesian updates: 2.65ms, Linking: 0.26ms)\n",
      "[INFO][2020/10/02 10:12:40 AM]  - Probabilities (Link: 1.00000, Lost: 0.26949)\n",
      "[INFO][2020/10/02 10:12:40 AM]  - Stats (Active: 113, Lost: 565, Conflicts resolved: 285)\n",
      "[INFO][2020/10/02 10:12:40 AM] Tracking objects in frames 300 to 399 (of 500)...\n",
      "[INFO][2020/10/02 10:12:40 AM]  - Timing (Bayesian updates: 4.01ms, Linking: 0.41ms)\n",
      "[INFO][2020/10/02 10:12:40 AM]  - Probabilities (Link: 0.99900, Lost: 0.99976)\n",
      "[INFO][2020/10/02 10:12:40 AM]  - Stats (Active: 140, Lost: 995, Conflicts resolved: 408)\n",
      "[INFO][2020/10/02 10:12:40 AM] Tracking objects in frames 400 to 499 (of 500)...\n",
      "[INFO][2020/10/02 10:12:41 AM]  - Timing (Bayesian updates: 7.41ms, Linking: 0.54ms)\n",
      "[INFO][2020/10/02 10:12:41 AM]  - Probabilities (Link: 1.00000, Lost: 1.00000)\n",
      "[INFO][2020/10/02 10:12:41 AM] SUCCESS.\n",
      "[INFO][2020/10/02 10:12:41 AM]  - Found 506 tracks in 500 frames (in 0.0s)\n",
      "[INFO][2020/10/02 10:12:41 AM]  - Inserted 100 dummy objects to fill tracking gaps\n",
      "[INFO][2020/10/02 10:12:41 AM] Loading hypothesis model: cell_hypothesis\n",
      "[INFO][2020/10/02 10:12:41 AM] Calculating hypotheses (relax: True)...\n",
      "[INFO][2020/10/02 10:12:41 AM] Setting up constraints matrix for global optimisation...\n",
      "[INFO][2020/10/02 10:12:41 AM] Optimizing...\n",
      "[INFO][2020/10/02 10:12:41 AM] Optimization complete. (Solution: optimal)\n",
      "[INFO][2020/10/02 10:12:41 AM]  - Fates.FALSE_POSITIVE: 32 (of 506)\n",
      "[INFO][2020/10/02 10:12:41 AM]  - Fates.LINK: 98 (of 348)\n",
      "[INFO][2020/10/02 10:12:41 AM]  - Fates.DIVIDE: 110 (of 121)\n",
      "[INFO][2020/10/02 10:12:41 AM]  - Fates.APOPTOSIS: 1 (of 2)\n",
      "[INFO][2020/10/02 10:12:41 AM]  - Fates.INITIALIZE_BORDER: 52 (of 96)\n",
      "[INFO][2020/10/02 10:12:41 AM]  - Fates.INITIALIZE_FRONT: 70 (of 72)\n",
      "[INFO][2020/10/02 10:12:41 AM]  - Fates.INITIALIZE_LAZY: 34 (of 338)\n",
      "[INFO][2020/10/02 10:12:41 AM]  - Fates.TERMINATE_BORDER: 52 (of 90)\n",
      "[INFO][2020/10/02 10:12:41 AM]  - Fates.TERMINATE_BACK: 182 (of 185)\n",
      "[INFO][2020/10/02 10:12:41 AM]  - Fates.TERMINATE_LAZY: 31 (of 231)\n",
      "[INFO][2020/10/02 10:12:41 AM]  - TOTAL: 1989 hypotheses\n",
      "[INFO][2020/10/02 10:12:41 AM] Ending BayesianTracker session\n"
     ]
    }
   ],
   "source": [
    "# initialise a tracker session using a context manager\n",
    "with btrack.BayesianTracker() as tracker:\n",
    "\n",
    "  # configure the tracker using a config file\n",
    "  tracker.configure_from_file('../models/cell_config.json')\n",
    "\n",
    "  # append the objects to be tracked\n",
    "  tracker.append(objects)\n",
    "\n",
    "  # set the volume (Z axis volume is set very large for 2D data)\n",
    "  tracker.volume=((0,1200), (0,1600), (-1e5,1e5))\n",
    "\n",
    "  # track them (in interactive mode)\n",
    "  tracker.track_interactive(step_size=100)\n",
    "\n",
    "  # generate hypotheses and run the global optimizer\n",
    "  tracker.optimize()\n",
    "\n",
    "  # get the tracks in a format for napari visualization\n",
    "  data, properties, graph = tracker.to_napari(ndim=2)"
   ]
  },
  {
   "cell_type": "code",
   "execution_count": 5,
   "metadata": {},
   "outputs": [],
   "source": [
    "vertices = data[:, 1:]"
   ]
  },
  {
   "cell_type": "code",
   "execution_count": 17,
   "metadata": {},
   "outputs": [],
   "source": [
    "# use the tracks PR to visualize the track data\n",
    "with napari.gui_qt():\n",
    "    viewer = napari.Viewer()\n",
    "    #     viewer.add_labels(segmentation)\n",
    "    viewer.add_points(vertices, size=1, name='points', opacity=0.3)\n",
    "    viewer.add_tracks(data, name='tracks')\n",
    "    viewer.layers['tracks'].properties = properties\n",
    "    viewer.layers['tracks'].graph = graph"
   ]
  },
  {
   "cell_type": "markdown",
   "metadata": {},
   "source": [
    "### export data for Napari example"
   ]
  },
  {
   "cell_type": "code",
   "execution_count": 15,
   "metadata": {},
   "outputs": [],
   "source": [
    "np.savetxt('example_track_data.csv', data, delimiter=\",\", fmt='%.2f')\n",
    "\n",
    "del properties['track_id'] # this is autogenerated by napari, remove it when saving out\n",
    "properties_df = pd.DataFrame(properties)\n",
    "properties_df.to_csv('example_track_properties.csv')\n",
    "\n",
    "with open('example_track_graph.txt', 'w') as file:\n",
    "    print(graph, file=file)"
   ]
  }
 ],
 "metadata": {
  "kernelspec": {
   "display_name": "Python [conda env:napari-dev]",
   "language": "python",
   "name": "conda-env-napari-dev-py"
  },
  "language_info": {
   "codemirror_mode": {
    "name": "ipython",
    "version": 3
   },
   "file_extension": ".py",
   "mimetype": "text/x-python",
   "name": "python",
   "nbconvert_exporter": "python",
   "pygments_lexer": "ipython3",
   "version": "3.7.7"
  }
 },
 "nbformat": 4,
 "nbformat_minor": 1
}
